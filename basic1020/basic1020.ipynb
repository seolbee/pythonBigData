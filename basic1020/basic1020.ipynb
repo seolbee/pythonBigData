{
 "cells": [
  {
   "cell_type": "code",
   "execution_count": 5,
   "metadata": {},
   "outputs": [
    {
     "name": "stdout",
     "output_type": "stream",
     "text": [
      "비밀번호 일치\n"
     ]
    }
   ],
   "source": [
    "password = 1234\n",
    "\n",
    "if password == 1234:\n",
    "    print(\"비밀번호 일치\")\n",
    "else :\n",
    "    print(\"비밀번호 불 일치\")"
   ]
  },
  {
   "cell_type": "code",
   "execution_count": 7,
   "metadata": {},
   "outputs": [],
   "source": [
    "password = 1234\n",
    "\n",
    "if password == 1234:\n",
    "    print(\"비밀번호 일치\")\n",
    "else :\n",
    "    pass # 아무것도 수행하지 않을 경우"
   ]
  },
  {
   "cell_type": "code",
   "execution_count": 13,
   "metadata": {},
   "outputs": [
    {
     "name": "stdout",
     "output_type": "stream",
     "text": [
      "아이디를 입력하세요 : flower\n",
      "비밀번호를 입력하세요 : 1234\n",
      "로그인 성공\n"
     ]
    }
   ],
   "source": [
    "#로그인 프로그램\n",
    "ID = 'flower'\n",
    "password = '1234'\n",
    "\n",
    "#사용자로부터 키보드를 통해서 값을 입력받기\n",
    "input_id = input('아이디를 입력하세요 : ') # 입력되는 data는 문자열로 처리\n",
    "input_pass = input('비밀번호를 입력하세요 : ') #\n",
    "\n",
    "#두 값이 모두 일치하면 로그인 성공\n",
    "\n",
    "if(ID == input_id) and (input_pass == password):\n",
    "    print(\"로그인 성공\")\n",
    "else : \n",
    "    print(\"로그인 실패\")"
   ]
  },
  {
   "cell_type": "code",
   "execution_count": 15,
   "metadata": {},
   "outputs": [
    {
     "name": "stdout",
     "output_type": "stream",
     "text": [
      "첫번 째 수 입력 : 232\n",
      "두번 째 수 입력 : 15\n",
      "247\n"
     ]
    }
   ],
   "source": [
    "#사용자로부터 두 수를 입력받아 더한 결과를 출력하는 코드 작성\n",
    "\n",
    "su1 = int(input('첫번 째 수 입력 : '))\n",
    "su2 = int(input('두번 째 수 입력 : '))\n",
    "\n",
    "print(su1 + su2)"
   ]
  },
  {
   "cell_type": "code",
   "execution_count": 18,
   "metadata": {},
   "outputs": [
    {
     "name": "stdout",
     "output_type": "stream",
     "text": [
      "정수 입력 : 0\n",
      "0\n"
     ]
    }
   ],
   "source": [
    "#if ~ elif ~ else\n",
    "\n",
    "num = int(input(\"정수 입력 : \"))\n",
    "\n",
    "if num < 0 :\n",
    "    print(\"음수\")\n",
    "elif num > 0 : \n",
    "    print(\"양수\")\n",
    "else :\n",
    "    print(\"0\")"
   ]
  },
  {
   "cell_type": "markdown",
   "metadata": {},
   "source": [
    "반복문\n"
   ]
  },
  {
   "cell_type": "code",
   "execution_count": 27,
   "metadata": {},
   "outputs": [
    {
     "name": "stdout",
     "output_type": "stream",
     "text": [
      "홍길동 이몽룡 성춘향 변학도  \n",
      "0\n",
      "1\n",
      "2\n",
      "3\n",
      "4\n",
      "5\n",
      "6\n",
      "7\n",
      "8\n",
      "9\n"
     ]
    }
   ],
   "source": [
    "#출력시 print문은 줄바꿈을 표현한다. 줄바꿈 없이 출력 end = ''\n",
    "#for 변수 in 리스트 또는 범위\n",
    "\n",
    "for name in ['홍길동', '이몽룡', '성춘향', '변학도']:\n",
    "    print(name, end=' ')\n",
    "\n",
    "print(' ')\n",
    "for x in range(0, 10):\n",
    "    print(x)"
   ]
  },
  {
   "cell_type": "code",
   "execution_count": 28,
   "metadata": {},
   "outputs": [
    {
     "name": "stdout",
     "output_type": "stream",
     "text": [
      "0\n",
      "2\n",
      "4\n",
      "6\n",
      "8\n"
     ]
    }
   ],
   "source": [
    "for x in range(0, 10, 2):\n",
    "    print(x)"
   ]
  },
  {
   "cell_type": "code",
   "execution_count": 33,
   "metadata": {
    "scrolled": true
   },
   "outputs": [
    {
     "name": "stdout",
     "output_type": "stream",
     "text": [
      "11 12 13 14 15 16 17 18 19 20 21  \n",
      "55\n"
     ]
    }
   ],
   "source": [
    "#숫자 11부터 21까지 한줄에 출력하시오.\n",
    "\n",
    "for i in range(11, 22):\n",
    "    print(i, end=\" \")\n",
    "\n",
    "    \n",
    "print(\" \")\n",
    "\n",
    "sumx = 0 #누적 변수 반복문에서 쓰기 전에 선언되어야 한다.\n",
    "for num in range(1, 11):\n",
    "    sumx += num\n",
    "    \n",
    "print(sumx)"
   ]
  },
  {
   "cell_type": "markdown",
   "metadata": {},
   "source": [
    "# 문자열"
   ]
  },
  {
   "cell_type": "code",
   "execution_count": 34,
   "metadata": {},
   "outputs": [
    {
     "name": "stdout",
     "output_type": "stream",
     "text": [
      "파이썬파이썬파이썬\n"
     ]
    }
   ],
   "source": [
    "# 문자열 곱하기\n",
    "#곱한 수 만큼 문자열이 반복되어 생성\n",
    "\n",
    "string = '파이썬'\n",
    "\n",
    "result = string * 3\n",
    "\n",
    "print(result)"
   ]
  },
  {
   "cell_type": "code",
   "execution_count": 40,
   "metadata": {},
   "outputs": [
    {
     "name": "stdout",
     "output_type": "stream",
     "text": [
      "Data crawling is fun\n",
      "Data\n",
      "crawling is\n",
      "fun\n",
      "n\n",
      "n\n",
      "Data crawling is fu\n",
      " fun\n"
     ]
    }
   ],
   "source": [
    "#문자열 슬라이싱 (문자열의 일부분을 수출하는 기능)\n",
    "\n",
    "crawling = 'Data crawling is fun'\n",
    "parsing = 'Data parsing is also fun'\n",
    "\n",
    "print(crawling)\n",
    "print(crawling[0:4])#0-3\n",
    "print(crawling[5:16])#5-15\n",
    "print(crawling[17:])#17-끝\n",
    "print(crawling[19])#19(20번째 문자) - 인덱스는 0부터 시작\n",
    "print(crawling[-1:])#마지막에서 끝까지 (마지막 문자)\n",
    "print(crawling[:-1])#처음부터 마지막 -1까지\n",
    "print(crawling[16:16+4])#16-19"
   ]
  },
  {
   "cell_type": "code",
   "execution_count": 43,
   "metadata": {},
   "outputs": [
    {
     "ename": "TypeError",
     "evalue": "'str' object does not support item assignment",
     "output_type": "error",
     "traceback": [
      "\u001b[1;31m---------------------------------------------------------------------------\u001b[0m",
      "\u001b[1;31mTypeError\u001b[0m                                 Traceback (most recent call last)",
      "\u001b[1;32m<ipython-input-43-c2429570ea8f>\u001b[0m in \u001b[0;36m<module>\u001b[1;34m\u001b[0m\n\u001b[1;32m----> 1\u001b[1;33m \u001b[0mparsing\u001b[0m\u001b[1;33m[\u001b[0m\u001b[1;36m5\u001b[0m\u001b[1;33m]\u001b[0m \u001b[1;33m=\u001b[0m \u001b[1;34m'가'\u001b[0m\u001b[1;31m#문자열 인덱싱에는 대입 연산자를 사용할 수 없다 error\u001b[0m\u001b[1;33m\u001b[0m\u001b[1;33m\u001b[0m\u001b[0m\n\u001b[0m",
      "\u001b[1;31mTypeError\u001b[0m: 'str' object does not support item assignment"
     ]
    }
   ],
   "source": [
    "parsing[5] = '가'#문자열 인덱싱에는 대입 연산자를 사용할 수 없다 error"
   ]
  },
  {
   "cell_type": "code",
   "execution_count": 45,
   "metadata": {},
   "outputs": [
    {
     "name": "stdout",
     "output_type": "stream",
     "text": [
      "True\n",
      "False\n",
      "있음\n"
     ]
    }
   ],
   "source": [
    "#문자열 연산자 in / not in 연산\n",
    "#특정 문자열이 포함되어 있는지 여부 확인\n",
    "#결과 T/F\n",
    "\n",
    "string = 'python programming'\n",
    "\n",
    "print('python' in string)\n",
    "print('Python' in string)\n",
    "\n",
    "if 'python' in string:\n",
    "    print('있음')\n",
    "else :\n",
    "    print(\"없음\")"
   ]
  },
  {
   "cell_type": "code",
   "execution_count": 48,
   "metadata": {},
   "outputs": [
    {
     "name": "stdout",
     "output_type": "stream",
     "text": [
      "11\n",
      "2\n"
     ]
    }
   ],
   "source": [
    "#len() : 문자열 전체 길이 반환, 단독함수 len(변수명 또는 문자열)\n",
    "#count() : 특정 문자열의 빈도수 반환ㅡ 문자열 또는 변수.count(개수할 문자)\n",
    "\n",
    "string = 'programming'\n",
    "print(len(string))\n",
    "print(string.count('m'))"
   ]
  },
  {
   "cell_type": "code",
   "execution_count": 54,
   "metadata": {},
   "outputs": [
    {
     "name": "stdout",
     "output_type": "stream",
     "text": [
      "['python', 'programming']\n",
      "['홍길동', '이몽룡', '성춘향', '변학도']\n",
      "['red', 'blue', 'yellow', 'green']\n"
     ]
    }
   ],
   "source": [
    "#split() : 구분자를 기준으로 문자를 나누고 리스트 형태로 반환\n",
    "#구분자 : 기본 공백, 옵션으로 구분자를 지정할 수 있음 ~/ . , \n",
    "\n",
    "string = 'python programming'\n",
    "split_str = string.split()\n",
    "print(split_str)#결과는 리스트 형태로 번환\n",
    "\n",
    "names = '홍길동,이몽룡,성춘향,변학도'\n",
    "\n",
    "names_split = names.split(\",\")\n",
    "print(names_split)\n",
    "\n",
    "colors ='red:blue:yellow:green'\n",
    "colors_split = colors.split(\":\")\n",
    "print(colors_split)"
   ]
  },
  {
   "cell_type": "code",
   "execution_count": 58,
   "metadata": {},
   "outputs": [
    {
     "name": "stdout",
     "output_type": "stream",
     "text": [
      "Python programming\n",
      "Java programming\n"
     ]
    }
   ],
   "source": [
    "#replace() : 전체 문자열에서 특정 문자열을 찾아 다른 문자열로 변경\n",
    "#문자열.replace(찾는문자열,변경할 문자열)\n",
    "\n",
    "course = 'Java programming'\n",
    "\n",
    "#Java를 PYthon으로 변경\n",
    "\n",
    "course_replace = course.replace('Java', \"Python\")\n",
    "print(course_replace)\n",
    "\n",
    "#기존 course 변수의 값은 변경되었는가?\n",
    "\n",
    "print(course)"
   ]
  },
  {
   "cell_type": "code",
   "execution_count": 60,
   "metadata": {},
   "outputs": [
    {
     "name": "stdout",
     "output_type": "stream",
     "text": [
      "j-o-i-n\n",
      "홍길동-이몽룡-성춘향\n"
     ]
    }
   ],
   "source": [
    "#join() : 각 문자사이에 특정 문자(열) 삽입\n",
    "\n",
    "a = 'aa'\n",
    "a.join('bbb')\n",
    "\n",
    "#문자열 사이에 구분자 삽입 사용\n",
    "#리스트에 있는 모든 문자를 하나로 구성할 떄 사용(리스트 함수)\n",
    "a = '-'\n",
    "print(a.join('join'))\n",
    "\n",
    "#리스트에 join 함수 사용\n",
    "\n",
    "sep = '-'\n",
    "names = ['홍길동', '이몽룡', '성춘향']\n",
    "print(sep.join(names))"
   ]
  },
  {
   "cell_type": "code",
   "execution_count": 61,
   "metadata": {},
   "outputs": [
    {
     "ename": "SyntaxError",
     "evalue": "invalid syntax (<ipython-input-61-9cf1c14d9eb2>, line 8)",
     "output_type": "error",
     "traceback": [
      "\u001b[1;36m  File \u001b[1;32m\"<ipython-input-61-9cf1c14d9eb2>\"\u001b[1;36m, line \u001b[1;32m8\u001b[0m\n\u001b[1;33m    string upper()\u001b[0m\n\u001b[1;37m               ^\u001b[0m\n\u001b[1;31mSyntaxError\u001b[0m\u001b[1;31m:\u001b[0m invalid syntax\n"
     ]
    }
   ],
   "source": [
    "#대소문자 전환 함수\n",
    "#upper(): 전부 대문자로\n",
    "#lower(): 전부 소문자로\n",
    "#captioalize() : 문자의 첫 번째 문자를 대문자로\n",
    "#title =  각 단어의 첫글자를 대문자로 변경\n",
    "\n",
    "string = 'this is WroG'\n",
    "string upper()\n",
    "string lower()\n",
    "string captpital()"
   ]
  },
  {
   "cell_type": "code",
   "execution_count": null,
   "metadata": {},
   "outputs": [],
   "source": [
    "#isalpha() 문자여부 결과 반한(T/F)\n",
    "#isdigit() : 숫자여부 결과 반환\n",
    "#isspace() : 공백 여부 결고 봔환(T/F)\n",
    "\n",
    "#isalnum() = 문자 또는 숫자여부 결과 반환(T/F)"
   ]
  },
  {
   "cell_type": "code",
   "execution_count": 69,
   "metadata": {},
   "outputs": [
    {
     "name": "stdout",
     "output_type": "stream",
     "text": [
      "문장을 입력 :  안녕하세요 조한슬 입니다 Hello my name is 조한슬 1234\n",
      "문자 : 27 개 \n",
      "숫자 : 4 개\n",
      "공백 : 8 개\n",
      "기타 : 0 개\n"
     ]
    }
   ],
   "source": [
    "#사용자로부터 문장을 입력받는다\n",
    "string = input(\"문장을 입력 :  \")\n",
    "\n",
    "alphas = digits = spaces = others = 0\n",
    "\n",
    "for c in string : #string 변수에서 한 글자씩 c에 대입\n",
    "    if c.isalpha():\n",
    "        alphas += 1\n",
    "    elif c.isdigit():\n",
    "        digits += 1\n",
    "    elif c.isspace():\n",
    "        spaces += 1\n",
    "    else:\n",
    "        others += 1\n",
    "\n",
    "        \n",
    "        \n",
    "print('문자 : %d 개 '% alphas) #포맷문자 이용 %d는 정수를 의미\n",
    "print(\"숫자 : %d 개\" % digits)\n",
    "print('공백 : %d 개' % spaces)\n",
    "print('기타 : %d 개' % others)\n",
    "\n"
   ]
  },
  {
   "cell_type": "markdown",
   "metadata": {},
   "source": [
    "# 리스트"
   ]
  },
  {
   "cell_type": "code",
   "execution_count": 72,
   "metadata": {},
   "outputs": [
    {
     "name": "stdout",
     "output_type": "stream",
     "text": [
      "100\n",
      "200\n",
      "300\n",
      "[10, 20, 30]\n"
     ]
    }
   ],
   "source": [
    "#리스트 생성\n",
    "\n",
    "numbers = [100, 200, 300, [10, 20, 30]]\n",
    "\n",
    "for n in range(0, len(numbers)) : \n",
    "    print(numbers[n])"
   ]
  },
  {
   "cell_type": "code",
   "execution_count": 74,
   "metadata": {},
   "outputs": [
    {
     "name": "stdout",
     "output_type": "stream",
     "text": [
      "1 2 3\n"
     ]
    }
   ],
   "source": [
    "#리스트의 값을 각 변수에 저장하는 코드\n",
    "\n",
    "nums = [1, 2, 3]\n",
    "a,b,c = nums #리스트 모든 원소를 각 변수에 대입\n",
    "\n",
    "print(a, b , c)"
   ]
  },
  {
   "cell_type": "code",
   "execution_count": 83,
   "metadata": {
    "scrolled": false
   },
   "outputs": [
    {
     "data": {
      "text/plain": [
       "10"
      ]
     },
     "execution_count": 83,
     "metadata": {},
     "output_type": "execute_result"
    }
   ],
   "source": [
    "#인덱싱\n",
    "#a[0] : 첫 번째 요소\n",
    "#a[-1] : 마지막 요소\n",
    "#a[-2] : 뒤에서 두 번째 요소\n",
    "\n",
    "b = [1, 2, 3, [10, 20, 30]]\n",
    "b[-1][0] #반환 되는 값\n",
    "\n",
    "a = [1, 2, 3, 4, 5]\n",
    "c = [1, 2, 3, [10, 20], 4, 5]\n",
    "\n",
    "all_list = [a,b,c]\n",
    "\n",
    "all_list[-1][3][0]"
   ]
  },
  {
   "cell_type": "code",
   "execution_count": null,
   "metadata": {},
   "outputs": [],
   "source": []
  }
 ],
 "metadata": {
  "kernelspec": {
   "display_name": "Python 3",
   "language": "python",
   "name": "python3"
  },
  "language_info": {
   "codemirror_mode": {
    "name": "ipython",
    "version": 3
   },
   "file_extension": ".py",
   "mimetype": "text/x-python",
   "name": "python",
   "nbconvert_exporter": "python",
   "pygments_lexer": "ipython3",
   "version": "3.7.4"
  }
 },
 "nbformat": 4,
 "nbformat_minor": 2
}
