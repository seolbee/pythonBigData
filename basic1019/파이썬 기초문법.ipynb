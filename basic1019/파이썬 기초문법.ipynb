{
 "cells": [
  {
   "cell_type": "code",
   "execution_count": 1,
   "metadata": {},
   "outputs": [
    {
     "name": "stdout",
     "output_type": "stream",
     "text": [
      "가\n"
     ]
    }
   ],
   "source": [
    "a = '가'\n",
    "print(a) #변수가 가리키는 객체의 값을 출력"
   ]
  },
  {
   "cell_type": "code",
   "execution_count": 4,
   "metadata": {
    "scrolled": true
   },
   "outputs": [
    {
     "data": {
      "text/plain": [
       "140717493363376"
      ]
     },
     "execution_count": 4,
     "metadata": {},
     "output_type": "execute_result"
    }
   ],
   "source": [
    "id(a) # 변수가 가리키는 메모리의 주소를 반환한다"
   ]
  },
  {
   "cell_type": "code",
   "execution_count": 2,
   "metadata": {},
   "outputs": [
    {
     "data": {
      "text/plain": [
       "str"
      ]
     },
     "execution_count": 2,
     "metadata": {},
     "output_type": "execute_result"
    }
   ],
   "source": [
    "type(a)"
   ]
  },
  {
   "cell_type": "code",
   "execution_count": null,
   "metadata": {},
   "outputs": [],
   "source": [
    "#변수의 값 저장\n",
    "#변수 = 값\n",
    "a = 10"
   ]
  },
  {
   "cell_type": "code",
   "execution_count": 3,
   "metadata": {},
   "outputs": [],
   "source": [
    "#여러 개의 변수에 여러개의 값 저장\n",
    "#변수1, 변수2, 변수3 ... = 값1, 값2, 값3...\n",
    "a, b, x, y = 1, 2, 3, 4"
   ]
  },
  {
   "cell_type": "code",
   "execution_count": 7,
   "metadata": {},
   "outputs": [
    {
     "data": {
      "text/plain": [
       "4"
      ]
     },
     "execution_count": 7,
     "metadata": {},
     "output_type": "execute_result"
    }
   ],
   "source": [
    "a\n",
    "b\n",
    "x\n",
    "y"
   ]
  },
  {
   "cell_type": "code",
   "execution_count": 8,
   "metadata": {},
   "outputs": [],
   "source": [
    "#여러 개의 변수에 한 개의 값 저장\n",
    "#변수1 = 변수2 = 변수3 = 값\n",
    "\n",
    "a = b = c = 10"
   ]
  },
  {
   "cell_type": "code",
   "execution_count": 9,
   "metadata": {},
   "outputs": [
    {
     "name": "stdout",
     "output_type": "stream",
     "text": [
      "20 10\n"
     ]
    }
   ],
   "source": [
    "# 두 변수 값의 교환\n",
    "a = 10\n",
    "b = 20\n",
    "\n",
    "#위 두 변수의 값을 교환하시오\n",
    "a, b = b, a # 동적할당을 하기 때문에\n",
    "print(a, b)"
   ]
  },
  {
   "cell_type": "code",
   "execution_count": 10,
   "metadata": {},
   "outputs": [],
   "source": [
    "#변수 삭제\n",
    "#del 명령어 사용\n",
    "#del 변수\n",
    "del a #a 변수 삭제"
   ]
  },
  {
   "cell_type": "code",
   "execution_count": 12,
   "metadata": {},
   "outputs": [
    {
     "name": "stdout",
     "output_type": "stream",
     "text": [
      "홍길동 23\n"
     ]
    }
   ],
   "source": [
    "#문자열 사용\n",
    "#문자열에 큰 따옴표를 사용\n",
    "name = \"홍길동\"\n",
    "age = 23\n",
    "print(name, age)"
   ]
  },
  {
   "cell_type": "code",
   "execution_count": 15,
   "metadata": {},
   "outputs": [
    {
     "name": "stdout",
     "output_type": "stream",
     "text": [
      "홍길동은 서울시 강남구에 삽니다\n"
     ]
    }
   ],
   "source": [
    "#작은따옴표도 사용가능\n",
    "address='서울시 강남구'\n",
    "\n",
    "#문자열에 + 연산자를 사용하면 문자열 결합 연산자로 취급\n",
    "\n",
    "print(name + '은 ' + address+'에 삽니다')"
   ]
  },
  {
   "cell_type": "code",
   "execution_count": 26,
   "metadata": {},
   "outputs": [
    {
     "name": "stdout",
     "output_type": "stream",
     "text": [
      "성명 : 홍길동\n",
      "학번 : 2016001\n",
      "학년 : 4\n",
      "학점 : A\n",
      "평균 : 93.50\n"
     ]
    }
   ],
   "source": [
    "name = \"홍길동\"\n",
    "no = 2016001\n",
    "year = 4\n",
    "grade = \"A\"\n",
    "average = 93.5\n",
    "\n",
    "#포맷코드 사용\n",
    "print(\"성명 : %s\" % name) #문자열 포맷코드\n",
    "print(\"학번 : %s\" % no)\n",
    "print(\"학년 : %d\" % year) #정수형 포맷코드\n",
    "print(\"학점 : %c\" % grade) #한문자 포맷코드\n",
    "print(\"평균 : %.2f\" % average) #실수형 포맷코드 (.소수 이하 자리f)"
   ]
  },
  {
   "cell_type": "code",
   "execution_count": null,
   "metadata": {},
   "outputs": [],
   "source": []
  }
 ],
 "metadata": {
  "kernelspec": {
   "display_name": "Python 3",
   "language": "python",
   "name": "python3"
  },
  "language_info": {
   "codemirror_mode": {
    "name": "ipython",
    "version": 3
   },
   "file_extension": ".py",
   "mimetype": "text/x-python",
   "name": "python",
   "nbconvert_exporter": "python",
   "pygments_lexer": "ipython3",
   "version": "3.7.4"
  }
 },
 "nbformat": 4,
 "nbformat_minor": 2
}
