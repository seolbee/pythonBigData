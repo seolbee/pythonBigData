{
 "cells": [
  {
   "cell_type": "markdown",
   "metadata": {},
   "source": [
    "# 튜플"
   ]
  },
  {
   "cell_type": "code",
   "execution_count": 5,
   "metadata": {},
   "outputs": [
    {
     "name": "stdout",
     "output_type": "stream",
     "text": [
      "([1, 2], [4, 5])\n",
      "(5, 6, 7, 8)\n",
      "[5, 6, 7, 8]\n"
     ]
    }
   ],
   "source": [
    "#튜플 생성( )이용\n",
    "\n",
    "t1 = (1, 2, 3)\n",
    "t2 = 4, 5, 6 #소괄호 없어도 튜플로 가능\n",
    "t3 = t1,(7, 8, 9)#튜플 내에 또 다른 튜플 생성\n",
    "t4 = [1, 2], [4, 5]#리스트로 튜플 생성\n",
    "\n",
    "t5 = tuple([5,6,7,8]) #tuple 함수 사용 - 기존 구조(리스트)를 튜플로 변환\n",
    "t6 = ([5, 6, 7, 8]) #리스트 하나를 원소로 갖는 튜플\n",
    "\n",
    "print(t4)\n",
    "t4[0]\n",
    "print(t5)\n",
    "print(t6)"
   ]
  },
  {
   "cell_type": "code",
   "execution_count": 7,
   "metadata": {},
   "outputs": [
    {
     "data": {
      "text/plain": [
       "[1, 2, 3]"
      ]
     },
     "execution_count": 7,
     "metadata": {},
     "output_type": "execute_result"
    }
   ],
   "source": [
    "#튜플을 리스트로 변환\n",
    "#(1 ,2 , 3) -> [1, 2, 3]\n",
    "\n",
    "to_list1 = list(t1)\n",
    "to_list1"
   ]
  },
  {
   "cell_type": "code",
   "execution_count": 9,
   "metadata": {},
   "outputs": [
    {
     "data": {
      "text/plain": [
       "[(1, 2, 3), (7, 8, 9)]"
      ]
     },
     "execution_count": 9,
     "metadata": {},
     "output_type": "execute_result"
    }
   ],
   "source": [
    "#튜플 내 튜플 원소는 변환 후에도 그대로 튜플로 유지\n",
    "\n",
    "to_list2 = list(t3)\n",
    "to_list2"
   ]
  },
  {
   "cell_type": "code",
   "execution_count": 10,
   "metadata": {},
   "outputs": [
    {
     "ename": "TypeError",
     "evalue": "'tuple' object does not support item assignment",
     "output_type": "error",
     "traceback": [
      "\u001b[1;31m---------------------------------------------------------------------------\u001b[0m",
      "\u001b[1;31mTypeError\u001b[0m                                 Traceback (most recent call last)",
      "\u001b[1;32m<ipython-input-10-d32239479c66>\u001b[0m in \u001b[0;36m<module>\u001b[1;34m\u001b[0m\n\u001b[0;32m      2\u001b[0m \u001b[1;33m\u001b[0m\u001b[0m\n\u001b[0;32m      3\u001b[0m \u001b[0mt\u001b[0m \u001b[1;33m=\u001b[0m \u001b[1;33m(\u001b[0m\u001b[1;36m1\u001b[0m\u001b[1;33m,\u001b[0m\u001b[1;36m2\u001b[0m\u001b[1;33m,\u001b[0m\u001b[1;36m3\u001b[0m\u001b[1;33m)\u001b[0m\u001b[1;33m\u001b[0m\u001b[1;33m\u001b[0m\u001b[0m\n\u001b[1;32m----> 4\u001b[1;33m \u001b[0mt\u001b[0m\u001b[1;33m[\u001b[0m\u001b[1;36m0\u001b[0m\u001b[1;33m]\u001b[0m \u001b[1;33m=\u001b[0m \u001b[1;36m5\u001b[0m\u001b[1;33m\u001b[0m\u001b[1;33m\u001b[0m\u001b[0m\n\u001b[0m",
      "\u001b[1;31mTypeError\u001b[0m: 'tuple' object does not support item assignment"
     ]
    }
   ],
   "source": [
    "#튜플은 변경할 수 없다\n",
    "\n",
    "t = (1,2,3)\n",
    "t[0] = 5#에러 발생: 변경 불가\n"
   ]
  },
  {
   "cell_type": "code",
   "execution_count": 12,
   "metadata": {},
   "outputs": [
    {
     "data": {
      "text/plain": [
       "1"
      ]
     },
     "execution_count": 12,
     "metadata": {},
     "output_type": "execute_result"
    }
   ],
   "source": [
    "t7 = (1)\n",
    "t7"
   ]
  },
  {
   "cell_type": "code",
   "execution_count": 15,
   "metadata": {},
   "outputs": [
    {
     "data": {
      "text/plain": [
       "(2,)"
      ]
     },
     "execution_count": 15,
     "metadata": {},
     "output_type": "execute_result"
    }
   ],
   "source": [
    "#소괄호 없이 튜플을 생성할 때 원소가 1개인 튜플을 생성하는 방법\n",
    "\n",
    "t8 = 2,\n",
    "t8"
   ]
  },
  {
   "cell_type": "markdown",
   "metadata": {},
   "source": [
    "# 딕셔너리"
   ]
  },
  {
   "cell_type": "code",
   "execution_count": 18,
   "metadata": {},
   "outputs": [
    {
     "name": "stdout",
     "output_type": "stream",
     "text": [
      "{1: 'a'}\n",
      "{1: 'a', 2: 'b'}\n",
      "{1: 'a', 2: 'b', 'name': '홍길동'}\n"
     ]
    }
   ],
   "source": [
    "#딕셔너리 : 키와 값의 한쌍을 요소로 갖는 자료형\n",
    "#구성 : d = {키 : 값, 키 : 값 ....}\n",
    "#관련 함수\n",
    "#딕셔너리.key()\n",
    "#딕셔너리.values()\n",
    "#딕셔너리.items()\n",
    "\n",
    "d = {1: 'a'}\n",
    "print(d)\n",
    "\n",
    "#딕셔너리에 값(item) 추가\n",
    "#딕셔너리 변수[새로 추가 될 key] = 키에 대응하는 값\n",
    "#키값 2에 대응하는 value 'b'를 추가\n",
    "\n",
    "d[2] = 'b'\n",
    "\n",
    "print(d)\n",
    "\n",
    "#키 값 name에 대응하는 value '홍길동' 아이템을 딕셔너리 d에 추가하시오.\n",
    "d['name'] = '홍길동'\n",
    "print(d)"
   ]
  },
  {
   "cell_type": "code",
   "execution_count": 19,
   "metadata": {},
   "outputs": [
    {
     "data": {
      "text/plain": [
       "'b'"
      ]
     },
     "execution_count": 19,
     "metadata": {},
     "output_type": "execute_result"
    }
   ],
   "source": [
    "#딕셔너리 item에 value에 접근\n",
    "#딕셔너리명[키값]\n",
    "d[2]"
   ]
  },
  {
   "cell_type": "code",
   "execution_count": 21,
   "metadata": {
    "scrolled": true
   },
   "outputs": [
    {
     "name": "stdout",
     "output_type": "stream",
     "text": [
      "{'name': 'naver', 'url': 'www.naver.com', 'userid': 'nv', 'password': '1234'}\n",
      "<class 'dict'>\n"
     ]
    }
   ],
   "source": [
    "#딕셔너리 예제\n",
    "\n",
    "naver = {\n",
    "    \"name\" : \"naver\",\n",
    "    \"url\" : \"www.naver.com\",\n",
    "    \"userid\" : \"nv\",\n",
    "    \"password\" : \"1234\"\n",
    "}\n",
    "\n",
    "print(naver)\n",
    "print(type(naver))"
   ]
  },
  {
   "cell_type": "code",
   "execution_count": 22,
   "metadata": {},
   "outputs": [
    {
     "name": "stdout",
     "output_type": "stream",
     "text": [
      "dict_keys(['name', 'url', 'userid', 'password'])\n",
      "dict_values(['naver', 'www.naver.com', 'nv', '1234'])\n",
      "dict_items([('name', 'naver'), ('url', 'www.naver.com'), ('userid', 'nv'), ('password', '1234')])\n"
     ]
    }
   ],
   "source": [
    "#관련 함수\n",
    "print(naver.keys())#key를 리스트 형태로 반환\n",
    "print(naver.values())#value를 리스트 형태로 반환\n",
    "print(naver.items())#(key,value)형태로 모든 item을 리스트로 변환\n"
   ]
  },
  {
   "cell_type": "code",
   "execution_count": 23,
   "metadata": {},
   "outputs": [
    {
     "ename": "TypeError",
     "evalue": "'dict_keys' object is not subscriptable",
     "output_type": "error",
     "traceback": [
      "\u001b[1;31m---------------------------------------------------------------------------\u001b[0m",
      "\u001b[1;31mTypeError\u001b[0m                                 Traceback (most recent call last)",
      "\u001b[1;32m<ipython-input-23-5d69ab3ece32>\u001b[0m in \u001b[0;36m<module>\u001b[1;34m\u001b[0m\n\u001b[1;32m----> 1\u001b[1;33m \u001b[0mprint\u001b[0m\u001b[1;33m(\u001b[0m\u001b[0mnaver\u001b[0m\u001b[1;33m.\u001b[0m\u001b[0mkeys\u001b[0m\u001b[1;33m(\u001b[0m\u001b[1;33m)\u001b[0m\u001b[1;33m[\u001b[0m\u001b[1;36m0\u001b[0m\u001b[1;33m]\u001b[0m\u001b[1;33m)\u001b[0m\u001b[1;33m\u001b[0m\u001b[1;33m\u001b[0m\u001b[0m\n\u001b[0m",
      "\u001b[1;31mTypeError\u001b[0m: 'dict_keys' object is not subscriptable"
     ]
    }
   ],
   "source": [
    "print(naver.keys()[0]) #반환 객체가 list를 포함하는 dict_keys 형태로 반환\n",
    "#사용하려면 list형태로 변환시켜 사용해야 함."
   ]
  },
  {
   "cell_type": "code",
   "execution_count": 25,
   "metadata": {},
   "outputs": [
    {
     "data": {
      "text/plain": [
       "'name'"
      ]
     },
     "execution_count": 25,
     "metadata": {},
     "output_type": "execute_result"
    }
   ],
   "source": [
    "#딕셔너리 파생 객체들은 list로 변환 후 사용\n",
    "list(naver.keys())[0]"
   ]
  }
 ],
 "metadata": {
  "kernelspec": {
   "display_name": "Python 3",
   "language": "python",
   "name": "python3"
  },
  "language_info": {
   "codemirror_mode": {
    "name": "ipython",
    "version": 3
   },
   "file_extension": ".py",
   "mimetype": "text/x-python",
   "name": "python",
   "nbconvert_exporter": "python",
   "pygments_lexer": "ipython3",
   "version": "3.7.4"
  }
 },
 "nbformat": 4,
 "nbformat_minor": 2
}
